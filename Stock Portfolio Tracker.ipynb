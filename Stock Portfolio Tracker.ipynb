{
 "cells": [
  {
   "cell_type": "code",
   "execution_count": null,
   "id": "ad4f86df",
   "metadata": {},
   "outputs": [],
   "source": [
    "import yfinance as yf\n",
    "\n",
    "\n",
    "portfolio = {}\n",
    "\n",
    "def add_stock(symbol, quantity, buy_price):\n",
    "    \"\"\"Add a stock to the portfolio\"\"\"\n",
    "    symbol = symbol.upper()\n",
    "    if symbol in portfolio:\n",
    "        portfolio[symbol][0] += quantity\n",
    "    else:\n",
    "        portfolio[symbol] = [quantity, buy_price]\n",
    "    print(f\"Added {quantity} shares of {symbol} at ${buy_price} per share.\")\n",
    "\n",
    "def remove_stock(symbol):\n",
    "    \"\"\"Remove a stock from the portfolio\"\"\"\n",
    "    symbol = symbol.upper()\n",
    "    if symbol in portfolio:\n",
    "        del portfolio[symbol]\n",
    "        print(f\"Removed {symbol} from the portfolio.\")\n",
    "    else:\n",
    "        print(f\"{symbol} is not in your portfolio.\")\n",
    "\n",
    "def track_portfolio():\n",
    "    \"\"\"Display the current portfolio with real-time prices\"\"\"\n",
    "    if not portfolio:\n",
    "        print(\"Your portfolio is empty.\")\n",
    "        return\n",
    "    \n",
    "    total_investment = 0\n",
    "    total_value = 0\n",
    "    \n",
    "    print(\"\\n--- Portfolio Overview ---\")\n",
    "    for symbol, (quantity, buy_price) in portfolio.items():\n",
    "        stock = yf.Ticker(symbol)\n",
    "        current_price = stock.history(period=\"1d\")[\"Close\"].iloc[-1]\n",
    "        investment = quantity * buy_price\n",
    "        current_value = quantity * current_price\n",
    "        profit_loss = current_value - investment\n",
    "        \n",
    "        total_investment += investment\n",
    "        total_value += current_value\n",
    "        \n",
    "        print(f\"{symbol}: {quantity} shares | Buy Price: ${buy_price:.2f} | Current Price: ${current_price:.2f} | P/L: ${profit_loss:.2f}\")\n",
    "    \n",
    "    print(f\"\\nTotal Investment: ${total_investment:.2f}\")\n",
    "    print(f\"Current Portfolio Value: ${total_value:.2f}\")\n",
    "    print(f\"Total Profit/Loss: ${total_value - total_investment:.2f}\")\n",
    "\n",
    "\n",
    "add_stock(\"AAPL\", 10, 105)  \n",
    "add_stock(\"TSLA\", 5, 570)   \n",
    "track_portfolio()           \n",
    "remove_stock(\"TSLA\")        \n",
    "track_portfolio()           \n"
   ]
  }
 ],
 "metadata": {
  "kernelspec": {
   "display_name": "Python 3 (ipykernel)",
   "language": "python",
   "name": "python3"
  },
  "language_info": {
   "codemirror_mode": {
    "name": "ipython",
    "version": 3
   },
   "file_extension": ".py",
   "mimetype": "text/x-python",
   "name": "python",
   "nbconvert_exporter": "python",
   "pygments_lexer": "ipython3",
   "version": "3.9.13"
  }
 },
 "nbformat": 4,
 "nbformat_minor": 5
}
